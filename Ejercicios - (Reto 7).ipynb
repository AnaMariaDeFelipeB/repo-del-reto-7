{
 "cells": [
  {
   "attachments": {},
   "cell_type": "markdown",
   "metadata": {},
   "source": [
    "RETO 7 (Ejercicios)"
   ]
  },
  {
   "attachments": {},
   "cell_type": "markdown",
   "metadata": {},
   "source": [
    "Diseñe un algoritmo que involucre un ciclo y que nunca ingrese al ciclo."
   ]
  },
  {
   "cell_type": "code",
   "execution_count": 9,
   "metadata": {},
   "outputs": [
    {
     "name": "stdout",
     "output_type": "stream",
     "text": [
      "El valor para comezar el ciclo es 1\n",
      "El ciclo termina con 1\n"
     ]
    }
   ],
   "source": [
    "a :float = 1 #Inicia. \n",
    "Iteración:int = 1 #Segunda variable. \n",
    "print(\"El valor para comezar el ciclo es \" + str(a))  #Imprime un comentario antes de ejecutar la concición. \n",
    "while (a == 0.5): #Condición: Que a sea igual a 0.5. \n",
    "    print(\"En la interacción\", Iteración, \"El valor dentro del ciclo es \" + str(a))\n",
    "    a += 0.5 #Actualiza. \n",
    "    Iteración +=1 #Actualiza. \n",
    "print(\"El ciclo termina con \" + str(a)) #Imprime comentario, cuando la condición no se cumple y termina el ciclo. "
   ]
  },
  {
   "attachments": {},
   "cell_type": "markdown",
   "metadata": {},
   "source": [
    "Diseñe un algoritmo que involucre un ciclo y que se ejecute indefinidamente."
   ]
  },
  {
   "cell_type": "code",
   "execution_count": null,
   "metadata": {},
   "outputs": [],
   "source": [
    "a :float = 0 #Inicia. \n",
    "Iteración:int =1 #Segunda variable. \n",
    "print(\"El valor para comezar el ciclo es \" + str(a)) #Imprime un comentario antes de ejecutar la concición. \n",
    "while (a >= 0): #Condición: Que a sea mayor o igual a 0.   \n",
    "    print(\"En la interacción\", Iteración, \"El valor dentro del ciclo es\", a*1)\n",
    "    a +=1 #Actualiza. \n",
    "    Iteración +=1 #Actualiza. \n",
    "print(\"El ciclo termino con el valor de \" + str(a)) #Imprime comentario, cuando la condición no se cumple y termina el ciclo. \n",
    "\n",
    "# Ejecutar bajo su propio riesgo. "
   ]
  },
  {
   "attachments": {},
   "cell_type": "markdown",
   "metadata": {},
   "source": [
    "Diseñe un algoritmo que pida un valor entero, y que siga leyendo valores enteros mientras que alguno de esos valores no represente el código ASCII de una letra mayúscula en el abc del inglés."
   ]
  },
  {
   "cell_type": "code",
   "execution_count": 16,
   "metadata": {},
   "outputs": [
    {
     "name": "stdout",
     "output_type": "stream",
     "text": [
      "El número 1 en ASCII corresponde al carácter \u0001\n",
      "El número 56 en ASCII corresponde al carácter 8\n",
      "El número 353 en ASCII corresponde al carácter š\n",
      "El número 232 en ASCII corresponde al carácter è\n",
      "El número 34 en ASCII corresponde al carácter \"\n",
      "El número 65 en ASCII corresponde al carácter A por lo tanto es a una letra mayuscula en ASCII\n"
     ]
    }
   ],
   "source": [
    "numero:int = 1 #Inicia. \n",
    "while (numero<65 or numero>90):  #Condición. \n",
    "    print(\"El número\", numero, \"en ASCII corresponde al carácter\", chr(numero))  #Imprime si se cumple la condición. \n",
    "    numero: int= int(input(\"Ingrese otro número entero: \")) #Actualiza. En este caso pide al usuario que ingrese un número, con el fin de ver si ese número cumple la condición. \n",
    "print(\"El número\", numero, \"en ASCII corresponde al carácter\", chr(numero), \"por lo tanto es a una letra mayuscula en ASCII\") #Imprime comentario, cuando la condición no se cumple y termina el ciclo. "
   ]
  }
 ],
 "metadata": {
  "kernelspec": {
   "display_name": "Python 3",
   "language": "python",
   "name": "python3"
  },
  "language_info": {
   "codemirror_mode": {
    "name": "ipython",
    "version": 3
   },
   "file_extension": ".py",
   "mimetype": "text/x-python",
   "name": "python",
   "nbconvert_exporter": "python",
   "pygments_lexer": "ipython3",
   "version": "3.11.2"
  },
  "orig_nbformat": 4
 },
 "nbformat": 4,
 "nbformat_minor": 2
}
